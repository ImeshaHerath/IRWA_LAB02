{
  "nbformat": 4,
  "nbformat_minor": 0,
  "metadata": {
    "colab": {
      "provenance": []
    },
    "kernelspec": {
      "name": "python3",
      "display_name": "Python 3"
    },
    "language_info": {
      "name": "python"
    }
  },
  "cells": [
    {
      "cell_type": "code",
      "execution_count": 1,
      "metadata": {
        "colab": {
          "base_uri": "https://localhost:8080/"
        },
        "id": "YpHm-K2bhMBa",
        "outputId": "28525b64-f293-4fe3-d454-620e3a90bed4"
      },
      "outputs": [
        {
          "output_type": "stream",
          "name": "stdout",
          "text": [
            "Mounted at /content/drive\n"
          ]
        }
      ],
      "source": [
        "from google.colab import drive\n",
        "drive.mount('/content/drive')"
      ]
    },
    {
      "cell_type": "code",
      "source": [
        "import os\n",
        "\n",
        "directionary='/content/drive/My Drive/IRWA/inverted'\n",
        "\n",
        "files = os.listdir(directionary)\n",
        "print(files)"
      ],
      "metadata": {
        "colab": {
          "base_uri": "https://localhost:8080/"
        },
        "id": "dJHfZgUphwbk",
        "outputId": "5f038bf7-6cd6-461b-bf5e-e8a4edb7932a"
      },
      "execution_count": 6,
      "outputs": [
        {
          "output_type": "stream",
          "name": "stdout",
          "text": [
            "['Doc1.txt', 'Doc2.txt', 'Doc3.txt', 'Doc4.txt']\n"
          ]
        }
      ]
    },
    {
      "cell_type": "code",
      "source": [
        "for file in files:\n",
        "  with open('/content/drive/My Drive/IRWA/inverted/'+file,'r')as f:\n",
        "    words=f.read().lower().split()\n",
        "    print(words)"
      ],
      "metadata": {
        "colab": {
          "base_uri": "https://localhost:8080/"
        },
        "id": "MDT8p2VVk8MY",
        "outputId": "67575769-2854-44a2-8814-76542d466a2b"
      },
      "execution_count": 9,
      "outputs": [
        {
          "output_type": "stream",
          "name": "stdout",
          "text": [
            "['breakthrough', 'drug', 'for', 'schizophrenia']\n",
            "['new', 'schizophrenia', 'drug']\n",
            "['new', 'approach', 'for', 'treatment', 'of', 'schizophrenia']\n",
            "['new', 'hopes', 'for', 'schizophrenia', 'patients']\n"
          ]
        }
      ]
    },
    {
      "cell_type": "code",
      "source": [
        "dict1 = dict()\n",
        "\n",
        "for file in files:\n",
        "  with open('/content/drive/My Drive/IRWA/inverted/'+file,'r')as f:\n",
        "    words=f.read().lower().split()\n",
        "    #print(words)\n",
        "\n",
        "    for word in words:\n",
        "      #check the words already is the ditctionary\n",
        "      if word not in dict1:\n",
        "        dict1[word]=[file]\n",
        "      else:\n",
        "        dict1[word].append(file)\n",
        "\n",
        "#print(dict1)"
      ],
      "metadata": {
        "colab": {
          "base_uri": "https://localhost:8080/"
        },
        "id": "pmXV4JSpnlZb",
        "outputId": "538fde47-f642-42a5-d3f5-2b1e2e56e98c"
      },
      "execution_count": 10,
      "outputs": [
        {
          "output_type": "stream",
          "name": "stdout",
          "text": [
            "{'breakthrough': ['Doc1.txt'], 'drug': ['Doc1.txt', 'Doc2.txt'], 'for': ['Doc1.txt', 'Doc3.txt', 'Doc4.txt'], 'schizophrenia': ['Doc1.txt', 'Doc2.txt', 'Doc3.txt', 'Doc4.txt'], 'new': ['Doc2.txt', 'Doc3.txt', 'Doc4.txt'], 'approach': ['Doc3.txt'], 'treatment': ['Doc3.txt'], 'of': ['Doc3.txt'], 'hopes': ['Doc4.txt'], 'patients': ['Doc4.txt']}\n"
          ]
        }
      ]
    },
    {
      "cell_type": "code",
      "source": [
        "dict1 = dict()\n",
        "\n",
        "def invertedIndex():\n",
        "  for file in files:\n",
        "    with open('/content/drive/My Drive/IRWA/inverted/'+file,'r')as f:\n",
        "       words=f.read().lower().split()\n",
        "       #print(words)\n",
        "\n",
        "       for word in words:\n",
        "        #check the words already is the ditctionary\n",
        "        if word not in dict1:\n",
        "          dict1[word]=[file]\n",
        "        else:\n",
        "          dict1[word].append(file)\n",
        "\n",
        "#print(dict1)\n",
        "  return dict1"
      ],
      "metadata": {
        "id": "tolLDZKcoWlj"
      },
      "execution_count": 12,
      "outputs": []
    },
    {
      "cell_type": "code",
      "source": [
        "#apart b of q1\n",
        "\n",
        "def And_op(list1,list2):\n",
        "  return set(list1).intersection(list2)\n"
      ],
      "metadata": {
        "id": "wzV-DNNeqbmw"
      },
      "execution_count": 14,
      "outputs": []
    },
    {
      "cell_type": "code",
      "source": [
        "ii= invertedIndex()\n",
        "\n",
        "for key in ii:\n",
        "  if key == 'schizophrenia':\n",
        "    list1 = ii[key]\n",
        "  elif key=='drug':\n",
        "    list2 = ii[key]\n",
        "\n",
        "print(list1)\n",
        "print(list2)"
      ],
      "metadata": {
        "colab": {
          "base_uri": "https://localhost:8080/"
        },
        "id": "fP1GYsxFrs77",
        "outputId": "192b125e-7d78-4507-dab7-3766f16eb195"
      },
      "execution_count": 17,
      "outputs": [
        {
          "output_type": "stream",
          "name": "stdout",
          "text": [
            "['Doc1.txt', 'Doc2.txt', 'Doc3.txt', 'Doc4.txt', 'Doc1.txt', 'Doc2.txt', 'Doc3.txt', 'Doc4.txt', 'Doc1.txt', 'Doc2.txt', 'Doc3.txt', 'Doc4.txt', 'Doc1.txt', 'Doc2.txt', 'Doc3.txt', 'Doc4.txt']\n",
            "['Doc1.txt', 'Doc2.txt', 'Doc1.txt', 'Doc2.txt', 'Doc1.txt', 'Doc2.txt', 'Doc1.txt', 'Doc2.txt']\n"
          ]
        }
      ]
    },
    {
      "cell_type": "code",
      "source": [
        "ii= invertedIndex()\n",
        "\n",
        "for key in ii:\n",
        "  if key == 'schizophrenia':\n",
        "    list1 = ii[key]\n",
        "  elif key=='drug':\n",
        "    list2 = ii[key]\n",
        "\n",
        "#print(list1)\n",
        "#print(list2)\n",
        "\n",
        "print('schizophrenia AND drug', And_op(list1,list2))"
      ],
      "metadata": {
        "colab": {
          "base_uri": "https://localhost:8080/"
        },
        "id": "lDIrxvFsr97p",
        "outputId": "489aeb56-ca09-4493-9385-af5543eb8a35"
      },
      "execution_count": 26,
      "outputs": [
        {
          "output_type": "stream",
          "name": "stdout",
          "text": [
            "schizophrenia AND drug {'Doc1.txt', 'Doc2.txt'}\n"
          ]
        }
      ]
    },
    {
      "cell_type": "code",
      "source": [
        "def Or_op(list1,list2):\n",
        "  return set(list1).union(list2)"
      ],
      "metadata": {
        "id": "XFSZyNDosUiq"
      },
      "execution_count": 30,
      "outputs": []
    },
    {
      "cell_type": "code",
      "source": [
        "def Not_op(a):\n",
        "  return set(files).symmetric_difference(a)"
      ],
      "metadata": {
        "id": "VIDIAdGvskQC"
      },
      "execution_count": 28,
      "outputs": []
    },
    {
      "cell_type": "code",
      "source": [
        "#use ii\n",
        "\n",
        "for key in  ii:\n",
        "  if key== 'drug':\n",
        "    list1= ii[key]\n",
        "  elif key=='approach':\n",
        "    list2=ii[key]\n",
        "  elif key=='for':\n",
        "    list3= ii[key]\n",
        "\n",
        "#apply for OR operator\n",
        "list4 = Or_op(list1,list2)\n",
        "list5= Not_op(list4)\n",
        "list6 = And_op(list5,list3)\n",
        "\n",
        "print('for AND NOT(drug OR approach)',list6)"
      ],
      "metadata": {
        "colab": {
          "base_uri": "https://localhost:8080/"
        },
        "id": "gidP6VDosx6_",
        "outputId": "fbc83534-e671-4cca-b87e-eac90fe33e54"
      },
      "execution_count": 31,
      "outputs": [
        {
          "output_type": "stream",
          "name": "stdout",
          "text": [
            "for AND NOT(drug OR approach) {'Doc4.txt'}\n"
          ]
        }
      ]
    }
  ]
}